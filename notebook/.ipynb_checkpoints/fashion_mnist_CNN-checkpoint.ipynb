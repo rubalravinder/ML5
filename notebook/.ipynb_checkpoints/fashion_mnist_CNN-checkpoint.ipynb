{
 "cells": [
  {
   "cell_type": "code",
   "execution_count": 1,
   "metadata": {},
   "outputs": [],
   "source": [
    "# Importations nécessaires\n",
    "\n",
    "from tensorflow.keras.datasets import fashion_mnist # librairie d'images\n",
    "from tensorflow.keras.models import Sequential # pour construire un modèle séquentiel\n",
    "from tensorflow.keras.layers import Dense # pour ajouter les couches\n",
    "from tensorflow.keras.utils import to_categorical # pour changer des variables en catégories"
   ]
  },
  {
   "cell_type": "code",
   "execution_count": 2,
   "metadata": {},
   "outputs": [],
   "source": [
    "# On charge les données, qui sont déjà splittées en train et test sets\n",
    "\n",
    "(X_train,y_train),(X_test,y_test) = fashion_mnist.load_data()"
   ]
  },
  {
   "cell_type": "code",
   "execution_count": 3,
   "metadata": {},
   "outputs": [
    {
     "data": {
      "text/plain": [
       "((60000, 28, 28), (10000, 28, 28))"
      ]
     },
     "execution_count": 3,
     "metadata": {},
     "output_type": "execute_result"
    }
   ],
   "source": [
    "X_train.shape, X_test.shape\n",
    "# 60 000 images en 28x28 dans le train et 10 000 dans le test"
   ]
  },
  {
   "cell_type": "code",
   "execution_count": 4,
   "metadata": {},
   "outputs": [],
   "source": [
    "# Nos images sont en 2D, et notre perceptron (1 hidden layer) ne\n",
    "# que lire en 1D. Alors on doit faire passer les images en 1D\n",
    "\n",
    "# les pixels varient entre 0 et 255, et on les normalisent entre 0 et 1\n",
    "X_train = X_train.reshape(X_train.shape[0], -1) / 255.0\n",
    "X_test = X_test.reshape(X_test.shape[0], -1) / 255.0\n",
    "y_train = to_categorical(y_train)\n",
    "y_test = to_categorical(y_test)"
   ]
  },
  {
   "cell_type": "code",
   "execution_count": 5,
   "metadata": {},
   "outputs": [
    {
     "data": {
      "text/plain": [
       "((60000, 784), (10000, 784))"
      ]
     },
     "execution_count": 5,
     "metadata": {},
     "output_type": "execute_result"
    }
   ],
   "source": [
    "X_train.shape, X_test.shape\n",
    "\n",
    "# Même nombre d'image mais en 1D - dimension input = 784"
   ]
  },
  {
   "cell_type": "code",
   "execution_count": 6,
   "metadata": {},
   "outputs": [],
   "source": [
    "# Dans notre perceptron, on a 10 outputs (1 par catégorie).\n",
    "# Pour la hidden layer, on fixe arbitrairement 10 neurons."
   ]
  },
  {
   "cell_type": "code",
   "execution_count": 7,
   "metadata": {},
   "outputs": [],
   "source": [
    "# On construit le perceptron - d'abord on met les couches\n",
    "model = Sequential()\n",
    "model.add(Dense(10, input_dim=784, activation='relu'))\n",
    "model.add(Dense(10, activation='softmax'))\n",
    "\n",
    "# on compile le modèle, avec une loss pour les sorties multi-catégorielles\n",
    "model.compile(loss='categorical_crossentropy', optimizer='adam', metrics=['accuracy'])"
   ]
  },
  {
   "cell_type": "code",
   "execution_count": 8,
   "metadata": {},
   "outputs": [
    {
     "name": "stdout",
     "output_type": "stream",
     "text": [
      "Epoch 1/10\n",
      "1688/1688 [==============================] - 6s 3ms/step - loss: 0.9091 - accuracy: 0.6748 - val_loss: 0.5087 - val_accuracy: 0.8092\n",
      "Epoch 2/10\n",
      "1688/1688 [==============================] - 4s 3ms/step - loss: 0.4780 - accuracy: 0.8333 - val_loss: 0.4403 - val_accuracy: 0.8420\n",
      "Epoch 3/10\n",
      "1688/1688 [==============================] - 4s 3ms/step - loss: 0.4447 - accuracy: 0.8494 - val_loss: 0.4321 - val_accuracy: 0.8488\n",
      "Epoch 4/10\n",
      "1688/1688 [==============================] - 4s 3ms/step - loss: 0.4254 - accuracy: 0.8521 - val_loss: 0.4192 - val_accuracy: 0.8492\n",
      "Epoch 5/10\n",
      "1688/1688 [==============================] - 4s 3ms/step - loss: 0.4087 - accuracy: 0.8572 - val_loss: 0.4308 - val_accuracy: 0.8487\n",
      "Epoch 6/10\n",
      "1688/1688 [==============================] - 4s 3ms/step - loss: 0.4033 - accuracy: 0.8588 - val_loss: 0.4056 - val_accuracy: 0.8570\n",
      "Epoch 7/10\n",
      "1688/1688 [==============================] - 4s 3ms/step - loss: 0.3963 - accuracy: 0.8632 - val_loss: 0.4158 - val_accuracy: 0.8525\n",
      "Epoch 8/10\n",
      "1688/1688 [==============================] - 4s 3ms/step - loss: 0.3932 - accuracy: 0.8619 - val_loss: 0.4081 - val_accuracy: 0.8575\n",
      "Epoch 9/10\n",
      "1688/1688 [==============================] - 4s 3ms/step - loss: 0.3821 - accuracy: 0.8671 - val_loss: 0.3935 - val_accuracy: 0.8618\n",
      "Epoch 10/10\n",
      "1688/1688 [==============================] - 4s 3ms/step - loss: 0.3795 - accuracy: 0.8656 - val_loss: 0.4098 - val_accuracy: 0.8547\n"
     ]
    },
    {
     "data": {
      "text/plain": [
       "<tensorflow.python.keras.callbacks.History at 0x7fc96dd74400>"
      ]
     },
     "execution_count": 8,
     "metadata": {},
     "output_type": "execute_result"
    }
   ],
   "source": [
    "# On entraine notre perceptron en y mettant une évaluation sur le\n",
    "# validation set (il est créé au moment du fit, pas avant)\n",
    "model.fit(X_train, y_train, epochs=10, validation_split=0.1)"
   ]
  },
  {
   "cell_type": "code",
   "execution_count": 9,
   "metadata": {},
   "outputs": [
    {
     "name": "stdout",
     "output_type": "stream",
     "text": [
      "313/313 [==============================] - 1s 2ms/step - loss: 0.4355 - accuracy: 0.8488\n",
      "0.848800003528595\n"
     ]
    }
   ],
   "source": [
    "# 85% d'accuracy sur le validation set. On évalue sur le test set\n",
    "\n",
    "_, test_acc = model.evaluate(X_test, y_test)\n",
    "print(test_acc)"
   ]
  },
  {
   "cell_type": "code",
   "execution_count": 15,
   "metadata": {},
   "outputs": [],
   "source": [
    "# 84% d'accuracy sur le test set, c'est pas mal pour une architecture simple"
   ]
  },
  {
   "cell_type": "code",
   "execution_count": 11,
   "metadata": {},
   "outputs": [
    {
     "name": "stdout",
     "output_type": "stream",
     "text": [
      "Epoch 1/10\n",
      "1688/1688 [==============================] - 5s 3ms/step - loss: 0.7198 - accuracy: 0.7499 - val_loss: 0.4311 - val_accuracy: 0.8422\n",
      "Epoch 2/10\n",
      "1688/1688 [==============================] - 4s 3ms/step - loss: 0.4144 - accuracy: 0.8543 - val_loss: 0.3711 - val_accuracy: 0.8627\n",
      "Epoch 3/10\n",
      "1688/1688 [==============================] - 4s 3ms/step - loss: 0.3589 - accuracy: 0.8715 - val_loss: 0.4007 - val_accuracy: 0.8558\n",
      "Epoch 4/10\n",
      "1688/1688 [==============================] - 4s 2ms/step - loss: 0.3376 - accuracy: 0.8778 - val_loss: 0.3532 - val_accuracy: 0.8708\n",
      "Epoch 5/10\n",
      "1688/1688 [==============================] - 4s 3ms/step - loss: 0.3214 - accuracy: 0.8803 - val_loss: 0.3562 - val_accuracy: 0.8718\n",
      "Epoch 6/10\n",
      "1688/1688 [==============================] - 4s 2ms/step - loss: 0.3024 - accuracy: 0.8895 - val_loss: 0.3325 - val_accuracy: 0.8767\n",
      "Epoch 7/10\n",
      "1688/1688 [==============================] - 4s 2ms/step - loss: 0.2893 - accuracy: 0.8931 - val_loss: 0.3594 - val_accuracy: 0.8727\n",
      "Epoch 8/10\n",
      "1688/1688 [==============================] - 4s 2ms/step - loss: 0.2829 - accuracy: 0.8968 - val_loss: 0.3405 - val_accuracy: 0.8763\n",
      "Epoch 9/10\n",
      "1688/1688 [==============================] - 4s 2ms/step - loss: 0.2711 - accuracy: 0.9024 - val_loss: 0.3405 - val_accuracy: 0.8798\n",
      "Epoch 10/10\n",
      "1688/1688 [==============================] - 4s 2ms/step - loss: 0.2668 - accuracy: 0.9017 - val_loss: 0.3303 - val_accuracy: 0.8843\n"
     ]
    },
    {
     "data": {
      "text/plain": [
       "<tensorflow.python.keras.callbacks.History at 0x7fc9401fc070>"
      ]
     },
     "execution_count": 11,
     "metadata": {},
     "output_type": "execute_result"
    }
   ],
   "source": [
    "# On complexifie le perceptron en mettant 50 neurons au lieu de 10\n",
    "\n",
    "model2 = Sequential()\n",
    "model2.add(Dense(50, input_dim=784, activation='relu'))\n",
    "model2.add(Dense(10, activation='softmax'))\n",
    "\n",
    "model2.compile(loss='categorical_crossentropy', optimizer='adam', metrics=['accuracy'])\n",
    "\n",
    "model2.fit(X_train, y_train, epochs=10, validation_split=0.1)"
   ]
  },
  {
   "cell_type": "code",
   "execution_count": 13,
   "metadata": {},
   "outputs": [
    {
     "name": "stdout",
     "output_type": "stream",
     "text": [
      "313/313 [==============================] - 1s 2ms/step - loss: 0.3520 - accuracy: 0.8785\n",
      "0.8784999847412109\n"
     ]
    }
   ],
   "source": [
    "# Accuracy augmente à 88%, c'est mieux quand c'est plus complexe !\n",
    "# On teste notre modèle 2 sur le test set\n",
    "_, test_acc = model2.evaluate(X_test, y_test)\n",
    "print(test_acc)"
   ]
  },
  {
   "cell_type": "code",
   "execution_count": 14,
   "metadata": {},
   "outputs": [],
   "source": [
    "# On voit que le modèle réalise de meilleures performances avec\n",
    "# plus de neurons. On essaie d'améliorer encore l'accuracy."
   ]
  },
  {
   "cell_type": "code",
   "execution_count": 15,
   "metadata": {},
   "outputs": [
    {
     "name": "stdout",
     "output_type": "stream",
     "text": [
      "Epoch 1/10\n",
      "1688/1688 [==============================] - 5s 3ms/step - loss: 0.7239 - accuracy: 0.7498 - val_loss: 0.4343 - val_accuracy: 0.8445\n",
      "Epoch 2/10\n",
      "1688/1688 [==============================] - 5s 3ms/step - loss: 0.4136 - accuracy: 0.8533 - val_loss: 0.4019 - val_accuracy: 0.8525\n",
      "Epoch 3/10\n",
      "1688/1688 [==============================] - 5s 3ms/step - loss: 0.3594 - accuracy: 0.8696 - val_loss: 0.3618 - val_accuracy: 0.8708\n",
      "Epoch 4/10\n",
      "1688/1688 [==============================] - 4s 3ms/step - loss: 0.3330 - accuracy: 0.8785 - val_loss: 0.3532 - val_accuracy: 0.8715\n",
      "Epoch 5/10\n",
      "1688/1688 [==============================] - 5s 3ms/step - loss: 0.3172 - accuracy: 0.8831 - val_loss: 0.3472 - val_accuracy: 0.8713\n",
      "Epoch 6/10\n",
      "1688/1688 [==============================] - 5s 3ms/step - loss: 0.3005 - accuracy: 0.8887 - val_loss: 0.3686 - val_accuracy: 0.8677\n",
      "Epoch 7/10\n",
      "1688/1688 [==============================] - 5s 3ms/step - loss: 0.2912 - accuracy: 0.8927 - val_loss: 0.3566 - val_accuracy: 0.8740\n",
      "Epoch 8/10\n",
      "1688/1688 [==============================] - 5s 3ms/step - loss: 0.2810 - accuracy: 0.8966 - val_loss: 0.3630 - val_accuracy: 0.8675\n",
      "Epoch 9/10\n",
      "1688/1688 [==============================] - 5s 3ms/step - loss: 0.2698 - accuracy: 0.9010 - val_loss: 0.3451 - val_accuracy: 0.8778\n",
      "Epoch 10/10\n",
      "1688/1688 [==============================] - 5s 3ms/step - loss: 0.2594 - accuracy: 0.9031 - val_loss: 0.3277 - val_accuracy: 0.8855\n"
     ]
    },
    {
     "data": {
      "text/plain": [
       "<tensorflow.python.keras.callbacks.History at 0x7fc9400f5460>"
      ]
     },
     "execution_count": 15,
     "metadata": {},
     "output_type": "execute_result"
    }
   ],
   "source": [
    "# Cette fois-ci, on ajoute une couche au modèle plutôt que d'encore\n",
    "# augmenter le nombre de neurons\n",
    "\n",
    "model3 = Sequential()\n",
    "model3.add(Dense(50, input_dim=784, activation='relu'))\n",
    "model3.add(Dense(50, activation='relu'))\n",
    "model3.add(Dense(10, activation='softmax'))\n",
    "\n",
    "model3.compile(loss='categorical_crossentropy', optimizer='adam', metrics=['accuracy'])\n",
    "\n",
    "model3.fit(X_train, y_train, epochs=10, validation_split=0.1)"
   ]
  },
  {
   "cell_type": "code",
   "execution_count": 17,
   "metadata": {},
   "outputs": [
    {
     "name": "stdout",
     "output_type": "stream",
     "text": [
      "313/313 [==============================] - 1s 2ms/step - loss: 0.3453 - accuracy: 0.8788\n",
      "0.8787999749183655\n"
     ]
    }
   ],
   "source": [
    "# On voit pas vraiment d'amélioration de l'accuracy\n",
    "_, test_acc = model3.evaluate(X_test, y_test)\n",
    "print(test_acc)"
   ]
  },
  {
   "cell_type": "code",
   "execution_count": 18,
   "metadata": {},
   "outputs": [],
   "source": [
    "# Pour nos images, utiliser un perceptron est pê pas une bonne idée\n",
    "# On passe à un autre modèle plus adapté à l'analyse d'images : CNN"
   ]
  },
  {
   "cell_type": "code",
   "execution_count": 2,
   "metadata": {},
   "outputs": [],
   "source": [
    "# Importations nécessaires\n",
    "\n",
    "from tensorflow.keras.layers import Conv2D, MaxPooling2D, Flatten\n",
    "import numpy as np"
   ]
  },
  {
   "cell_type": "code",
   "execution_count": 3,
   "metadata": {},
   "outputs": [],
   "source": [
    "# On charge les données\n",
    "\n",
    "(x_train, y_train), (x_test, y_test) = fashion_mnist.load_data()\n",
    "\n",
    "# pas besoin de les reshape en CNN. Par contre, elle doivent être dans les dimensions\n",
    "# total_data x width x height x channels = 60 000 x 28 x 28 x nbre_channels\n",
    "# quand image couleur, y'as 3 channels (rouge, vert, bleu), 1 par couleur.\n",
    "# L'image est traitée par chaque channel de son côté. Les valeurs des channels varient en\n",
    "# fonction des couleurs présentes sur l'image (si y'as du noir, les 3 channels = 0. si\n",
    "# y'as que du rouge, les channel vert et bleu = 0 ...)\n",
    "# quand les images sont en N&B, on n'a plus qu'un seul channel (nuances de gris)\n",
    "\n",
    "x_train = x_train[:,:,:,np.newaxis] / 255.0\n",
    "x_test = x_test[:,:,:,np.newaxis] / 255.0\n",
    "y_train = to_categorical(y_train)\n",
    "y_test = to_categorical(y_test)"
   ]
  },
  {
   "cell_type": "code",
   "execution_count": 13,
   "metadata": {},
   "outputs": [],
   "source": [
    "# On construit le modèle CNN\n",
    "\n",
    "model4 = Sequential()\n",
    "model4.add(Conv2D(filters=64, kernel_size=2, padding='same', activation='relu', input_shape=(28,28, 1)))\n",
    "# conv2d: convolution suivie d'un relu\n",
    "# change l'image qui est en 28x28x1 en 28x28x64, comme s'il y avait 64 hidden layers\n",
    "# filters : on lui dit qu'il a 64 features à chercher dans chaque image\n",
    "# kernel_size : elles sont de taille 2x2 (on peut lui donner un tuple pour la taille)\n",
    "# padding : le output du filtre aura les mêmes dimensions que l'input\n",
    "model4.add(MaxPooling2D(pool_size=2))\n",
    "# réduit la taille par 2\n",
    "model4.add(Flatten())\n",
    "# change l'image 2D en 1D\n",
    "model4.add(Dense(10, activation='softmax'))\n",
    "# prend la décision de la catégorie à attribuer\n",
    "\n",
    "model4.compile(loss='categorical_crossentropy', optimizer='adam', metrics=['accuracy'])"
   ]
  },
  {
   "cell_type": "code",
   "execution_count": 14,
   "metadata": {},
   "outputs": [
    {
     "name": "stdout",
     "output_type": "stream",
     "text": [
      "Model: \"sequential_1\"\n",
      "_________________________________________________________________\n",
      "Layer (type)                 Output Shape              Param #   \n",
      "=================================================================\n",
      "conv2d_1 (Conv2D)            (None, 28, 28, 64)        320       \n",
      "_________________________________________________________________\n",
      "max_pooling2d_1 (MaxPooling2 (None, 14, 14, 64)        0         \n",
      "_________________________________________________________________\n",
      "flatten_1 (Flatten)          (None, 12544)             0         \n",
      "_________________________________________________________________\n",
      "dense_1 (Dense)              (None, 10)                125450    \n",
      "=================================================================\n",
      "Total params: 125,770\n",
      "Trainable params: 125,770\n",
      "Non-trainable params: 0\n",
      "_________________________________________________________________\n"
     ]
    }
   ],
   "source": [
    "# On vérifie les dimensions des outputs de chaque couche -> OK\n",
    "model4.summary()"
   ]
  },
  {
   "cell_type": "code",
   "execution_count": 15,
   "metadata": {},
   "outputs": [
    {
     "name": "stdout",
     "output_type": "stream",
     "text": [
      "Epoch 1/10\n",
      "1688/1688 [==============================] - 21s 12ms/step - loss: 0.5765 - accuracy: 0.7974 - val_loss: 0.3404 - val_accuracy: 0.8778\n",
      "Epoch 2/10\n",
      "1688/1688 [==============================] - 20s 12ms/step - loss: 0.3238 - accuracy: 0.8868 - val_loss: 0.3067 - val_accuracy: 0.8928\n",
      "Epoch 3/10\n",
      "1688/1688 [==============================] - 20s 12ms/step - loss: 0.2772 - accuracy: 0.9021 - val_loss: 0.2903 - val_accuracy: 0.8988\n",
      "Epoch 4/10\n",
      "1688/1688 [==============================] - 20s 12ms/step - loss: 0.2586 - accuracy: 0.9062 - val_loss: 0.2864 - val_accuracy: 0.8970\n",
      "Epoch 5/10\n",
      "1688/1688 [==============================] - 20s 12ms/step - loss: 0.2377 - accuracy: 0.9161 - val_loss: 0.2838 - val_accuracy: 0.8990\n",
      "Epoch 6/10\n",
      "1688/1688 [==============================] - 19s 11ms/step - loss: 0.2225 - accuracy: 0.9213 - val_loss: 0.2758 - val_accuracy: 0.9040\n",
      "Epoch 7/10\n",
      "1688/1688 [==============================] - 19s 11ms/step - loss: 0.2133 - accuracy: 0.9234 - val_loss: 0.2732 - val_accuracy: 0.9060\n",
      "Epoch 8/10\n",
      "1688/1688 [==============================] - 19s 11ms/step - loss: 0.2002 - accuracy: 0.9280 - val_loss: 0.2715 - val_accuracy: 0.9057\n",
      "Epoch 9/10\n",
      "1688/1688 [==============================] - 19s 11ms/step - loss: 0.1942 - accuracy: 0.9295 - val_loss: 0.2785 - val_accuracy: 0.9045\n",
      "Epoch 10/10\n",
      "1688/1688 [==============================] - 19s 11ms/step - loss: 0.1857 - accuracy: 0.9345 - val_loss: 0.2793 - val_accuracy: 0.9027\n"
     ]
    }
   ],
   "source": [
    "history = model4.fit(x_train, y_train, epochs=10, validation_split=0.1)"
   ]
  },
  {
   "cell_type": "code",
   "execution_count": 16,
   "metadata": {},
   "outputs": [
    {
     "name": "stdout",
     "output_type": "stream",
     "text": [
      "313/313 [==============================] - 1s 4ms/step - loss: 0.2941 - accuracy: 0.8991\n",
      "0.8991000056266785\n"
     ]
    }
   ],
   "source": [
    "# L'accuracy a augmenté à 90% avec une seule layer en CNN\n",
    "_, test_acc = model4.evaluate(x_test, y_test)\n",
    "print(test_acc)"
   ]
  },
  {
   "cell_type": "code",
   "execution_count": 17,
   "metadata": {},
   "outputs": [
    {
     "data": {
      "image/png": "[encoded data removed]",
      "text/plain": [
       "<Figure size 432x288 with 1 Axes>"
      ]
     },
     "metadata": {
      "needs_background": "light"
     },
     "output_type": "display_data"
    }
   ],
   "source": [
    "# visualize training and validation losses and accuracies\n",
    "\n",
    "import matplotlib.pyplot as plt\n",
    "\n",
    "plt.plot(history.history['accuracy'])\n",
    "plt.plot(history.history['val_accuracy'])\n",
    "plt.title('Model accuracy')\n",
    "plt.ylabel('Accuracy')\n",
    "plt.xlabel('Epoch')\n",
    "plt.legend(['Train', 'Validation'], loc='upper left')\n",
    "plt.show()"
   ]
  },
  {
   "cell_type": "code",
   "execution_count": 18,
   "metadata": {},
   "outputs": [
    {
     "data": {
      "image/png": "[encoded data removed]",
      "text/plain": [
       "<Figure size 432x288 with 1 Axes>"
      ]
     },
     "metadata": {
      "needs_background": "light"
     },
     "output_type": "display_data"
    }
   ],
   "source": [
    "plt.plot(history.history['loss'])\n",
    "plt.plot(history.history['val_loss']) \n",
    "plt.title('Model loss') \n",
    "plt.ylabel('Loss') \n",
    "plt.xlabel('Epoch') \n",
    "plt.legend(['Train', 'Test'], loc='upper left') \n",
    "plt.show()"
   ]
  },
  {
   "cell_type": "code",
   "execution_count": 21,
   "metadata": {},
   "outputs": [],
   "source": [
    "# On ajoute une couche Conv2D et une couche MaxPooling2D pour \n",
    "# améliorer le modèle\n",
    "\n",
    "model5 = Sequential()\n",
    "model5.add(Conv2D(filters=64, kernel_size=2, padding='same', activation='relu', input_shape=(28,28, 1)))\n",
    "model5.add(MaxPooling2D(pool_size=2))\n",
    "model5.add(Conv2D(filters=64, kernel_size=2, padding='same', activation='relu'))\n",
    "model5.add(MaxPooling2D(pool_size=2))\n",
    "model5.add(Flatten())\n",
    "model5.add(Dense(10, activation='softmax'))\n",
    "\n",
    "model5.compile(loss='categorical_crossentropy', optimizer='adam', metrics=['accuracy'])"
   ]
  },
  {
   "cell_type": "code",
   "execution_count": 22,
   "metadata": {},
   "outputs": [
    {
     "name": "stdout",
     "output_type": "stream",
     "text": [
      "Epoch 1/10\n",
      "1688/1688 [==============================] - 37s 21ms/step - loss: 0.6342 - accuracy: 0.7723 - val_loss: 0.3574 - val_accuracy: 0.8710\n",
      "Epoch 2/10\n",
      "1688/1688 [==============================] - 39s 23ms/step - loss: 0.3193 - accuracy: 0.8859 - val_loss: 0.3037 - val_accuracy: 0.8922\n",
      "Epoch 3/10\n",
      "1688/1688 [==============================] - 36s 21ms/step - loss: 0.2794 - accuracy: 0.9015 - val_loss: 0.2797 - val_accuracy: 0.8992\n",
      "Epoch 4/10\n",
      "1688/1688 [==============================] - 36s 21ms/step - loss: 0.2517 - accuracy: 0.9109 - val_loss: 0.2575 - val_accuracy: 0.9063\n",
      "Epoch 5/10\n",
      "1688/1688 [==============================] - 38s 23ms/step - loss: 0.2286 - accuracy: 0.9183 - val_loss: 0.2471 - val_accuracy: 0.9110\n",
      "Epoch 6/10\n",
      "1688/1688 [==============================] - 38s 22ms/step - loss: 0.2054 - accuracy: 0.9273 - val_loss: 0.2596 - val_accuracy: 0.9052\n",
      "Epoch 7/10\n",
      "1688/1688 [==============================] - 36s 21ms/step - loss: 0.1941 - accuracy: 0.9285 - val_loss: 0.2412 - val_accuracy: 0.9125\n",
      "Epoch 8/10\n",
      "1688/1688 [==============================] - 38s 22ms/step - loss: 0.1760 - accuracy: 0.9359 - val_loss: 0.2372 - val_accuracy: 0.9150\n",
      "Epoch 9/10\n",
      "1688/1688 [==============================] - 35s 21ms/step - loss: 0.1661 - accuracy: 0.9394 - val_loss: 0.2479 - val_accuracy: 0.9135\n",
      "Epoch 10/10\n",
      "1688/1688 [==============================] - 37s 22ms/step - loss: 0.1557 - accuracy: 0.9439 - val_loss: 0.2595 - val_accuracy: 0.9080\n"
     ]
    }
   ],
   "source": [
    "history = model5.fit(x_train, y_train, epochs=10, validation_split=0.1)"
   ]
  },
  {
   "cell_type": "code",
   "execution_count": 23,
   "metadata": {},
   "outputs": [
    {
     "name": "stdout",
     "output_type": "stream",
     "text": [
      "313/313 [==============================] - 2s 7ms/step - loss: 0.2750 - accuracy: 0.9055\n",
      "0.9054999947547913\n"
     ]
    }
   ],
   "source": [
    "_, test_acc = model5.evaluate(x_test, y_test)\n",
    "print(test_acc)\n",
    "\n",
    "# On a légèrement augmenté l'accuracy (d'environ 1%)"
   ]
  },
  {
   "cell_type": "code",
   "execution_count": 4,
   "metadata": {},
   "outputs": [],
   "source": [
    "# On rajoute un FullyConnected au modèle\n",
    "\n",
    "model6 = Sequential()\n",
    "model6.add(Conv2D(filters=64, kernel_size=2, padding='same', activation='relu', input_shape=(28,28, 1)))\n",
    "model6.add(MaxPooling2D(pool_size=2))\n",
    "model6.add(Conv2D(filters=64, kernel_size=2, padding='same', activation='relu', input_shape=(28,28, 1)))\n",
    "model6.add(MaxPooling2D(pool_size=2))\n",
    "model6.add(Flatten())\n",
    "model6.add(Dense(150,activation='relu'))\n",
    "model6.add(Dense(10, activation='softmax'))\n",
    "\n",
    "model6.compile(loss='categorical_crossentropy', optimizer='adam', metrics=['accuracy'])"
   ]
  },
  {
   "cell_type": "code",
   "execution_count": 25,
   "metadata": {},
   "outputs": [
    {
     "name": "stdout",
     "output_type": "stream",
     "text": [
      "Epoch 1/10\n",
      "1688/1688 [==============================] - 45s 26ms/step - loss: 0.5594 - accuracy: 0.7989 - val_loss: 0.3047 - val_accuracy: 0.8868\n",
      "Epoch 2/10\n",
      "1688/1688 [==============================] - 43s 25ms/step - loss: 0.2833 - accuracy: 0.8972 - val_loss: 0.2746 - val_accuracy: 0.9003\n",
      "Epoch 3/10\n",
      "1688/1688 [==============================] - 44s 26ms/step - loss: 0.2352 - accuracy: 0.9137 - val_loss: 0.2613 - val_accuracy: 0.9048\n",
      "Epoch 4/10\n",
      "1688/1688 [==============================] - 44s 26ms/step - loss: 0.2039 - accuracy: 0.9244 - val_loss: 0.2433 - val_accuracy: 0.9118\n",
      "Epoch 5/10\n",
      "1688/1688 [==============================] - 40s 24ms/step - loss: 0.1726 - accuracy: 0.9366 - val_loss: 0.2508 - val_accuracy: 0.9140\n",
      "Epoch 6/10\n",
      "1688/1688 [==============================] - 41s 24ms/step - loss: 0.1486 - accuracy: 0.9450 - val_loss: 0.2368 - val_accuracy: 0.9185\n",
      "Epoch 7/10\n",
      "1688/1688 [==============================] - 41s 25ms/step - loss: 0.1216 - accuracy: 0.9547 - val_loss: 0.2451 - val_accuracy: 0.9228\n",
      "Epoch 8/10\n",
      "1688/1688 [==============================] - 42s 25ms/step - loss: 0.1037 - accuracy: 0.9615 - val_loss: 0.2818 - val_accuracy: 0.9133\n",
      "Epoch 9/10\n",
      "1688/1688 [==============================] - 41s 24ms/step - loss: 0.0833 - accuracy: 0.9699 - val_loss: 0.2887 - val_accuracy: 0.9148\n",
      "Epoch 10/10\n",
      "1688/1688 [==============================] - 38s 22ms/step - loss: 0.0727 - accuracy: 0.9721 - val_loss: 0.3121 - val_accuracy: 0.9148\n"
     ]
    }
   ],
   "source": [
    "history = model6.fit(x_train, y_train, epochs=10, validation_split=0.1)"
   ]
  },
  {
   "cell_type": "code",
   "execution_count": 26,
   "metadata": {},
   "outputs": [
    {
     "name": "stdout",
     "output_type": "stream",
     "text": [
      "313/313 [==============================] - 2s 7ms/step - loss: 0.3196 - accuracy: 0.9131\n",
      "0.913100004196167\n"
     ]
    }
   ],
   "source": [
    "_, test_acc = model6.evaluate(x_test, y_test)\n",
    "print(test_acc)\n",
    "\n",
    "# On a encore augmenté l'accuracy d'environ 1%"
   ]
  },
  {
   "cell_type": "code",
   "execution_count": 4,
   "metadata": {},
   "outputs": [],
   "source": [
    "# On rajoute un Dropout au modèle - vaut mieux le mettre après une 1ere\n",
    "# conv2D\n",
    "from tensorflow.keras.layers import Dropout"
   ]
  },
  {
   "cell_type": "code",
   "execution_count": 5,
   "metadata": {},
   "outputs": [],
   "source": [
    "model7 = Sequential()\n",
    "model7.add(Conv2D(filters=64, kernel_size=2, padding='same', activation='relu', input_shape=(28,28, 1)))\n",
    "model7.add(MaxPooling2D(pool_size=2))\n",
    "model7.add(Conv2D(filters=64, kernel_size=2, padding='same', activation='relu', input_shape=(28,28, 1)))\n",
    "model7.add(MaxPooling2D(pool_size=2))\n",
    "model7.add(Dropout(0.25)) # mettre le pourcentage à éliminer\n",
    "model7.add(Flatten())\n",
    "model7.add(Dense(150,activation='relu')) # on met un nbre au pif\n",
    "model7.add(Dense(10, activation='softmax'))\n",
    "\n",
    "model7.compile(loss='categorical_crossentropy', optimizer='adam', metrics=['accuracy'])"
   ]
  },
  {
   "cell_type": "code",
   "execution_count": 6,
   "metadata": {},
   "outputs": [
    {
     "name": "stdout",
     "output_type": "stream",
     "text": [
      "Epoch 1/10\n",
      "1688/1688 [==============================] - 45s 26ms/step - loss: 0.5752 - accuracy: 0.7961 - val_loss: 0.3194 - val_accuracy: 0.8798\n",
      "Epoch 2/10\n",
      "1688/1688 [==============================] - 41s 24ms/step - loss: 0.2992 - accuracy: 0.8902 - val_loss: 0.2570 - val_accuracy: 0.9050\n",
      "Epoch 3/10\n",
      "1688/1688 [==============================] - 42s 25ms/step - loss: 0.2569 - accuracy: 0.9062 - val_loss: 0.2448 - val_accuracy: 0.9098\n",
      "Epoch 4/10\n",
      "1688/1688 [==============================] - 40s 24ms/step - loss: 0.2176 - accuracy: 0.9177 - val_loss: 0.2374 - val_accuracy: 0.9132\n",
      "Epoch 5/10\n",
      "1688/1688 [==============================] - 39s 23ms/step - loss: 0.1898 - accuracy: 0.9300 - val_loss: 0.2281 - val_accuracy: 0.9147\n",
      "Epoch 6/10\n",
      "1688/1688 [==============================] - 41s 24ms/step - loss: 0.1747 - accuracy: 0.9339 - val_loss: 0.2449 - val_accuracy: 0.9117\n",
      "Epoch 7/10\n",
      "1688/1688 [==============================] - 40s 24ms/step - loss: 0.1569 - accuracy: 0.9403 - val_loss: 0.2322 - val_accuracy: 0.9147\n",
      "Epoch 8/10\n",
      "1688/1688 [==============================] - 42s 25ms/step - loss: 0.1347 - accuracy: 0.9495 - val_loss: 0.2236 - val_accuracy: 0.9220\n",
      "Epoch 9/10\n",
      "1688/1688 [==============================] - 39s 23ms/step - loss: 0.1259 - accuracy: 0.9518 - val_loss: 0.2282 - val_accuracy: 0.9212\n",
      "Epoch 10/10\n",
      "1688/1688 [==============================] - 38s 22ms/step - loss: 0.1162 - accuracy: 0.9557 - val_loss: 0.2285 - val_accuracy: 0.9233\n"
     ]
    }
   ],
   "source": [
    "history = model7.fit(x_train, y_train, epochs=10, validation_split=0.1)"
   ]
  },
  {
   "cell_type": "code",
   "execution_count": 10,
   "metadata": {},
   "outputs": [
    {
     "name": "stdout",
     "output_type": "stream",
     "text": [
      "313/313 [==============================] - 2s 8ms/step - loss: 0.2402 - accuracy: 0.9199\n",
      "0.9199000000953674\n"
     ]
    }
   ],
   "source": [
    "_, test_acc = model7.evaluate(x_test, y_test)\n",
    "print(test_acc)\n",
    "\n",
    "# L'accuracy augmente de 0.07%, c'est pas ouf"
   ]
  },
  {
   "cell_type": "code",
   "execution_count": 11,
   "metadata": {},
   "outputs": [
    {
     "data": {
      "image/png": "[encoded data removed]",
      "text/plain": [
       "<Figure size 432x288 with 1 Axes>"
      ]
     },
     "metadata": {
      "needs_background": "light"
     },
     "output_type": "display_data"
    }
   ],
   "source": [
    "# visualize training and validation losses and accuracies\n",
    "\n",
    "import matplotlib.pyplot as plt\n",
    "\n",
    "plt.plot(history.history['accuracy'])\n",
    "plt.plot(history.history['val_accuracy'])\n",
    "plt.title('Model accuracy')\n",
    "plt.ylabel('Accuracy')\n",
    "plt.xlabel('Epoch')\n",
    "plt.legend(['Train', 'Validation'], loc='upper left')\n",
    "plt.show()"
   ]
  },
  {
   "cell_type": "code",
   "execution_count": 12,
   "metadata": {},
   "outputs": [
    {
     "data": {
      "image/png": "[encoded data removed]",
      "text/plain": [
       "<Figure size 432x288 with 1 Axes>"
      ]
     },
     "metadata": {
      "needs_background": "light"
     },
     "output_type": "display_data"
    }
   ],
   "source": [
    "plt.plot(history.history['loss'])\n",
    "plt.plot(history.history['val_loss']) \n",
    "plt.title('Model loss') \n",
    "plt.ylabel('Loss') \n",
    "plt.xlabel('Epoch') \n",
    "plt.legend(['Train', 'Test'], loc='upper left') \n",
    "plt.show()"
   ]
  },
  {
   "cell_type": "code",
   "execution_count": null,
   "metadata": {},
   "outputs": [],
   "source": []
  }
 ],
 "metadata": {
  "kernelspec": {
   "display_name": "Python 3",
   "language": "python",
   "name": "python3"
  },
  "language_info": {
   "codemirror_mode": {
    "name": "ipython",
    "version": 3
   },
   "file_extension": ".py",
   "mimetype": "text/x-python",
   "name": "python",
   "nbconvert_exporter": "python",
   "pygments_lexer": "ipython3",
   "version": "3.8.5"
  }
 },
 "nbformat": 4,
 "nbformat_minor": 4
}
