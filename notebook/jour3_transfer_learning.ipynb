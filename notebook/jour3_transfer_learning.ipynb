{
 "cells": [
  {
   "cell_type": "markdown",
   "metadata": {},
   "source": [
    "# Utilisation de VGG-16 pré-entraîné\n",
    "\n",
    "Ressource 2.5 -https://openclassrooms.com/fr/courses/4470531-classez-et-segmentez-des-donnees-visuelles/5097666-tp-implementez-votre-premier-reseau-de-neurones-avec-keras"
   ]
  },
  {
   "cell_type": "code",
   "execution_count": 27,
   "metadata": {},
   "outputs": [],
   "source": [
    "# On importe et charge un modèle pré-entrainé : VGG-16\n",
    "\n",
    "from keras.applications.vgg16 import VGG16\n",
    "\n",
    "model = VGG16() # Création du modèle VGG-16 implementé par Keras"
   ]
  },
  {
   "cell_type": "code",
   "execution_count": 28,
   "metadata": {},
   "outputs": [],
   "source": [
    "# Là on vérifie juste que VGG prédit bien. On teste avec une img, mais il faut la préprocesser avant de\n",
    "# pouvoir la tester dans le modèle\n",
    "\n",
    "from keras.preprocessing.image import load_img, img_to_array\n",
    "from keras.applications.vgg16 import preprocess_input\n",
    "\n",
    "img = load_img('../data/poule1.jpeg', target_size=(224, 224))  # Charge l'image et la redimensionne\n",
    "\n",
    "img = img_to_array(img)  # Keras traite les images comme des tableaux numpy : convertit l'image chargée\n",
    "# en tableau numpy\n",
    "\n",
    "# Le réseau doit recevoir en entrée une collection d'images, stockée dans un tableau de 4 dimensions,\n",
    "# où les dimensions correspondent dans l'ordre à (nombre d'images, largeur, hauteur, profondeur).\n",
    "img = img.reshape((1, img.shape[0], img.shape[1], img.shape[2]))  # Créer la collection d'images (un seul échantillon)\n",
    "# reshape ajoute la première dimension (nombre d'images = 1) à notre image\n",
    "\n",
    "img = preprocess_input(img)  # Prétraiter l'image comme le veut VGG-16"
   ]
  },
  {
   "cell_type": "code",
   "execution_count": 29,
   "metadata": {},
   "outputs": [],
   "source": [
    "y = model.predict(img)  # Prédir la classe de l'image (parmi les 1000 classes d'ImageNet)\n",
    "# ca renvoit une liste de 1000 proba (une par classe/output)"
   ]
  },
  {
   "cell_type": "code",
   "execution_count": 30,
   "metadata": {},
   "outputs": [
    {
     "name": "stdout",
     "output_type": "stream",
     "text": [
      "Top 3 : [('n01514859', 'hen', 0.9546121), ('n01514668', 'cock', 0.0442258), ('n01807496', 'partridge', 0.00086757954)]\n"
     ]
    }
   ],
   "source": [
    "from keras.applications.vgg16 import decode_predictions\n",
    "\n",
    "# Afficher les 3 classes les plus probables\n",
    "print('Top 3 :', decode_predictions(y, top=3)[0])"
   ]
  },
  {
   "cell_type": "code",
   "execution_count": 6,
   "metadata": {},
   "outputs": [],
   "source": [
    "# Le modèle est sur à 95% que c'est une poule et 4% que c'est un coq."
   ]
  },
  {
   "cell_type": "code",
   "execution_count": 11,
   "metadata": {},
   "outputs": [
    {
     "data": {
      "text/plain": [
       "[('n02364673', 'guinea_pig', 0.99892503),\n",
       " ('n02342885', 'hamster', 0.0010561245),\n",
       " ('n07714990', 'broccoli', 1.0151749e-05)]"
      ]
     },
     "execution_count": 11,
     "metadata": {},
     "output_type": "execute_result"
    }
   ],
   "source": [
    "# Test avec une image de cochon d'Inde\n",
    "img1 = load_img('../data/cochon_dinde.jpg', target_size=(224,224))\n",
    "img1 = img_to_array(img1)\n",
    "\n",
    "img1 = img1.reshape((1,img1.shape[0],img1.shape[1],img1.shape[2]))\n",
    "img1 = preprocess_input(img1)\n",
    "\n",
    "y1 = model.predict(img1)\n",
    "decode_predictions(y1,top=3)[0]"
   ]
  },
  {
   "cell_type": "markdown",
   "metadata": {},
   "source": [
    "# Dataset\n",
    "\n",
    "Ressource 2.6 : https://vijayabhaskar96.medium.com/tutorial-image-classification-with-keras-flow-from-directory-and-generators-95f75ebe5720"
   ]
  },
  {
   "cell_type": "markdown",
   "metadata": {},
   "source": [
    "## On charge les données"
   ]
  },
  {
   "cell_type": "code",
   "execution_count": 8,
   "metadata": {},
   "outputs": [],
   "source": [
    "# On importe la classe qu'on veut. Elle permet de créer pleins de\n",
    "# variants d'une même image - intéressant quand on a peu d'images\n",
    "from keras.preprocessing.image import ImageDataGenerator"
   ]
  },
  {
   "cell_type": "code",
   "execution_count": 9,
   "metadata": {},
   "outputs": [],
   "source": [
    "train_datagen = ImageDataGenerator() # on peut lui proposer pleins\n",
    "# de paramètres sur les variants qu'on souhaite obtenir"
   ]
  },
  {
   "cell_type": "code",
   "execution_count": 50,
   "metadata": {},
   "outputs": [
    {
     "name": "stdout",
     "output_type": "stream",
     "text": [
      "Found 6 images belonging to 2 classes.\n"
     ]
    }
   ],
   "source": [
    "# On charge les données qui sont dans le ML5/data folder grâce à flow_from_directory\n",
    "\n",
    "train_generator = train_datagen.flow_from_directory(\n",
    "    directory=r\"../data/train/\", # chemin du fichier\n",
    "    target_size=(224, 224), #  size of your input images, every image will be resized to this size\n",
    "    color_mode=\"rgb\", # if B&W set \"grayscale\". if 3 color channels, \"rgb\"\n",
    "    batch_size=128, # number of images to be yielded from the generator per batch\n",
    "    class_mode=\"categorical\", # if 2 classes to predict, \"binary\". if more, \"categorical\"\n",
    "    shuffle=True, # shuffle the order of the image being yielded\n",
    "    seed=42 # random seed\n",
    ")"
   ]
  },
  {
   "cell_type": "code",
   "execution_count": 51,
   "metadata": {},
   "outputs": [
    {
     "name": "stdout",
     "output_type": "stream",
     "text": [
      "Found 6 images belonging to 2 classes.\n"
     ]
    }
   ],
   "source": [
    "valid_datagen = ImageDataGenerator()\n",
    "valid_generator = valid_datagen.flow_from_directory(\n",
    "    directory=r\"../data/valid/\", # chemin du fichier\n",
    "    target_size=(224, 224), #  size of your input images, every image will be resized to this size\n",
    "    color_mode=\"rgb\", # if B&W set \"grayscale\". if 3 color channels, \"rgb\"\n",
    "    batch_size=128, # number of images to be yielded from the generator per batch\n",
    "    class_mode=\"categorical\", # if 2 classes to predict, \"binary\". if more, \"categorical\"\n",
    "    shuffle=True, # shuffle the order of the image being yielded\n",
    "    seed=42 # random seed\n",
    ")"
   ]
  },
  {
   "cell_type": "code",
   "execution_count": 52,
   "metadata": {},
   "outputs": [
    {
     "name": "stdout",
     "output_type": "stream",
     "text": [
      "Found 6 images belonging to 1 classes.\n"
     ]
    }
   ],
   "source": [
    "test_datagen = ImageDataGenerator()\n",
    "test_generator = test_datagen.flow_from_directory(\n",
    "    directory=r\"../data/test/\", # chemin du fichier\n",
    "    target_size=(224, 224), #  size of your input images, every image will be resized to this size\n",
    "    color_mode=\"rgb\", # if B&W set \"grayscale\". if 3 color channels, \"rgb\"\n",
    "    batch_size=128, # number of images to be yielded from the generator per batch\n",
    "    class_mode=\"categorical\", # if 2 classes to predict, \"binary\". if more, \"categorical\"\n",
    "    shuffle=True, # shuffle the order of the image being yielded\n",
    "    seed=42 # random seed\n",
    ")"
   ]
  },
  {
   "cell_type": "markdown",
   "metadata": {},
   "source": [
    "## On entraîne et évalue le modèle, puis on prédit"
   ]
  },
  {
   "cell_type": "code",
   "execution_count": 74,
   "metadata": {},
   "outputs": [
    {
     "name": "stdout",
     "output_type": "stream",
     "text": [
      "Model: \"model_6\"\n",
      "_________________________________________________________________\n",
      " Layer (type)                Output Shape              Param #   \n",
      "=================================================================\n",
      " input_10 (InputLayer)       [(None, 224, 224, 3)]     0         \n",
      "                                                                 \n",
      " block1_conv1 (Conv2D)       (None, 224, 224, 64)      1792      \n",
      "                                                                 \n",
      " block1_conv2 (Conv2D)       (None, 224, 224, 64)      36928     \n",
      "                                                                 \n",
      " block1_pool (MaxPooling2D)  (None, 112, 112, 64)      0         \n",
      "                                                                 \n",
      " block2_conv1 (Conv2D)       (None, 112, 112, 128)     73856     \n",
      "                                                                 \n",
      " block2_conv2 (Conv2D)       (None, 112, 112, 128)     147584    \n",
      "                                                                 \n",
      " block2_pool (MaxPooling2D)  (None, 56, 56, 128)       0         \n",
      "                                                                 \n",
      " block3_conv1 (Conv2D)       (None, 56, 56, 256)       295168    \n",
      "                                                                 \n",
      " block3_conv2 (Conv2D)       (None, 56, 56, 256)       590080    \n",
      "                                                                 \n",
      " block3_conv3 (Conv2D)       (None, 56, 56, 256)       590080    \n",
      "                                                                 \n",
      " block3_pool (MaxPooling2D)  (None, 28, 28, 256)       0         \n",
      "                                                                 \n",
      " block4_conv1 (Conv2D)       (None, 28, 28, 512)       1180160   \n",
      "                                                                 \n",
      " block4_conv2 (Conv2D)       (None, 28, 28, 512)       2359808   \n",
      "                                                                 \n",
      " block4_conv3 (Conv2D)       (None, 28, 28, 512)       2359808   \n",
      "                                                                 \n",
      " block4_pool (MaxPooling2D)  (None, 14, 14, 512)       0         \n",
      "                                                                 \n",
      " block5_conv1 (Conv2D)       (None, 14, 14, 512)       2359808   \n",
      "                                                                 \n",
      " block5_conv2 (Conv2D)       (None, 14, 14, 512)       2359808   \n",
      "                                                                 \n",
      " block5_conv3 (Conv2D)       (None, 14, 14, 512)       2359808   \n",
      "                                                                 \n",
      " block5_pool (MaxPooling2D)  (None, 7, 7, 512)         0         \n",
      "                                                                 \n",
      " flatten_6 (Flatten)         (None, 25088)             0         \n",
      "                                                                 \n",
      " dense_6 (Dense)             (None, 2)                 50178     \n",
      "                                                                 \n",
      "=================================================================\n",
      "Total params: 14,764,866\n",
      "Trainable params: 50,178\n",
      "Non-trainable params: 14,714,688\n",
      "_________________________________________________________________\n"
     ]
    }
   ],
   "source": [
    "# Création du modèle\n",
    "from glob import glob\n",
    "from keras.layers import Flatten, Dense\n",
    "from keras import Model\n",
    "\n",
    "src_path_train = '../data/train'\n",
    "src_path_valid = '../data/valid'\n",
    "src_path_test = '../data/test'\n",
    "IMSIZE = [224, 224]\n",
    "\n",
    "NBCLASSES = 2\n",
    "train_image_files = glob(src_path_train + '/*/*.jp*g')\n",
    "test_image_files = glob(src_path_test + '/*/*.jp*g')\n",
    " \n",
    "def create_model():\n",
    "    vgg = VGG16(input_shape=IMSIZE + [3], weights='imagenet', include_top=False)\n",
    " \n",
    "    # Freeze existing VGG already trained weights\n",
    "    for layer in vgg.layers:\n",
    "        layer.trainable = False\n",
    "     \n",
    "    # get the VGG output\n",
    "    out = vgg.output\n",
    "     \n",
    "    # Add new dense layer at the end\n",
    "    x = Flatten()(out)\n",
    "    x = Dense(NBCLASSES, activation='sigmoid')(x)\n",
    "     \n",
    "    model = Model(inputs=vgg.input, outputs=x)\n",
    "     \n",
    "    model.compile(loss=\"binary_crossentropy\",\n",
    "                  optimizer=\"adam\",\n",
    "                  metrics=['accuracy'])\n",
    "     \n",
    "    model.summary()\n",
    "     \n",
    "    return model\n",
    " \n",
    "mymodel = create_model()"
   ]
  },
  {
   "cell_type": "code",
   "execution_count": 75,
   "metadata": {},
   "outputs": [
    {
     "name": "stdout",
     "output_type": "stream",
     "text": [
      "Epoch 1/30\n",
      "1/1 [==============================] - 4s 4s/step - loss: 2.3645 - accuracy: 0.8333 - val_loss: 10.3266 - val_accuracy: 0.5000\n",
      "Epoch 2/30\n",
      "1/1 [==============================] - 3s 3s/step - loss: 6.9786 - accuracy: 0.8333 - val_loss: 9.2184 - val_accuracy: 0.5000\n",
      "Epoch 3/30\n",
      "1/1 [==============================] - 3s 3s/step - loss: 1.7797e-13 - accuracy: 1.0000 - val_loss: 9.8160 - val_accuracy: 0.5000\n",
      "Epoch 4/30\n",
      "1/1 [==============================] - 3s 3s/step - loss: 3.8542e-18 - accuracy: 1.0000 - val_loss: 10.9951 - val_accuracy: 0.5000\n"
     ]
    },
    {
     "data": {
      "text/plain": [
       "<keras.callbacks.History at 0x7f7b9875cac0>"
      ]
     },
     "execution_count": 75,
     "metadata": {},
     "output_type": "execute_result"
    }
   ],
   "source": [
    "from keras.callbacks import EarlyStopping\n",
    "\n",
    "epochs = 30\n",
    "batch_size=32\n",
    "\n",
    "early_stop = EarlyStopping(monitor='val_loss',patience=2)\n",
    " \n",
    "mymodel.fit(\n",
    "  train_generator,\n",
    "  validation_data=valid_generator,\n",
    "  epochs=epochs,\n",
    "  # steps_per_epoch= len(train_generator) // batch_size,\n",
    "  # validation_steps=len(test_image_files) // batch_size,\n",
    "  callbacks=[early_stop]\n",
    ")"
   ]
  },
  {
   "cell_type": "code",
   "execution_count": null,
   "metadata": {},
   "outputs": [],
   "source": [
    "# STEP_SIZE_TRAIN=train_generator.n//train_generator.batch_size\n",
    "\n",
    "# STEP_SIZE_VALID=valid_generator.n//valid_generator.batch_size\n",
    "\n",
    "# model.compile(optimizer=\"Adam\", loss=\"mse\", metrics=[\"mae\"], run_eagerly=True)\n",
    "# model.fit(train_generator,\n",
    "                    # steps_per_epoch=STEP_SIZE_TRAIN,\n",
    "                    # validation_data=valid_generator,\n",
    "                    # validation_steps=STEP_SIZE_VALID,\n",
    "#                     epochs=10\n",
    "# )"
   ]
  },
  {
   "cell_type": "code",
   "execution_count": 76,
   "metadata": {},
   "outputs": [
    {
     "name": "stdout",
     "output_type": "stream",
     "text": [
      "1/1 [==============================] - 1s 1s/step - loss: 8.5819 - accuracy: 0.8333\n",
      "Test loss: 8.581878662109375\n",
      "Test accuracy: 0.8333333134651184\n"
     ]
    }
   ],
   "source": [
    "score = mymodel.evaluate(test_generator)\n",
    "print('Test loss:', score[0])\n",
    "print('Test accuracy:', score[1])"
   ]
  },
  {
   "cell_type": "code",
   "execution_count": 80,
   "metadata": {},
   "outputs": [
    {
     "data": {
      "text/plain": [
       "[('n02123045', 'tabby', 0.18181096),\n",
       " ('n02124075', 'Egyptian_cat', 0.17472121),\n",
       " ('n02123159', 'tiger_cat', 0.10490228)]"
      ]
     },
     "execution_count": 80,
     "metadata": {},
     "output_type": "execute_result"
    }
   ],
   "source": [
    "### PREDICTIONS DU MODELE VGG PRE-ENTRAINE ###\n",
    "\n",
    "img2 = load_img('../data/test/Test_folder/chat2.jpeg', target_size=(224,224))\n",
    "img2 = img_to_array(img2)\n",
    "\n",
    "img2 = img2.reshape((1,img2.shape[0],img2.shape[1],img2.shape[2]))\n",
    "img2 = preprocess_input(img2)\n",
    "\n",
    "y2 = model.predict(img2)\n",
    "decode_predictions(y2,top=3)[0]"
   ]
  },
  {
   "cell_type": "code",
   "execution_count": 89,
   "metadata": {},
   "outputs": [
    {
     "data": {
      "text/plain": [
       "array([[1.00000e+00, 9.41952e-27]], dtype=float32)"
      ]
     },
     "execution_count": 89,
     "metadata": {},
     "output_type": "execute_result"
    }
   ],
   "source": [
    "### PREDICTION DU MODELE VGG AVEC TRANSFER LEARNING ###\n",
    "\n",
    "img2 = load_img('../data/test/Test_folder/chat2.jpeg', target_size=(224,224))\n",
    "img2 = img_to_array(img2)\n",
    "\n",
    "img2 = img2.reshape((1,img2.shape[0],img2.shape[1],img2.shape[2]))\n",
    "img2 = preprocess_input(img2)\n",
    "\n",
    "y2 = mymodel.predict(img2)\n",
    "y2"
   ]
  },
  {
   "cell_type": "markdown",
   "metadata": {},
   "source": [
    "Ressources supplémentaire : https://www.tensorflow.org/tutorials/images/transfer_learning"
   ]
  }
 ],
 "metadata": {
  "kernelspec": {
   "display_name": "Python 3",
   "language": "python",
   "name": "python3"
  },
  "language_info": {
   "codemirror_mode": {
    "name": "ipython",
    "version": 3
   },
   "file_extension": ".py",
   "mimetype": "text/x-python",
   "name": "python",
   "nbconvert_exporter": "python",
   "pygments_lexer": "ipython3",
   "version": "3.10.2"
  }
 },
 "nbformat": 4,
 "nbformat_minor": 4
}
